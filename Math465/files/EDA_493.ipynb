{
 "cells": [
  {
   "cell_type": "code",
   "execution_count": 3,
   "id": "1bdfd563",
   "metadata": {},
   "outputs": [],
   "source": [
    "import pandas as pd\n",
    "from sodapy import Socrata"
   ]
  },
  {
   "cell_type": "markdown",
   "id": "af123295",
   "metadata": {},
   "source": [
    "# Exploratory Data Analysis\n",
    "\n",
    "We're going to explore a large data set or traffic crashes to learn about what factors are connected with injuries. We will use data from the city of [Chicago's open data portal](https://data.cityofchicago.org/Transportation/Traffic-Crashes-Crashes/85ca-t3if/about_data). (This activity is derived from a [blog post](https://juliasilge.com/blog/chicago-traffic-model/) by Julia Silge)"
   ]
  },
  {
   "cell_type": "code",
   "execution_count": 30,
   "id": "4737b637",
   "metadata": {
    "scrolled": false
   },
   "outputs": [
    {
     "name": "stderr",
     "output_type": "stream",
     "text": [
      "WARNING:root:Requests made without an app_token will be subject to strict throttling limits.\n"
     ]
    }
   ],
   "source": [
    "client = Socrata(\"data.cityofchicago.org\", None)\n",
    "\n",
    "results = client.get(\"85ca-t3if\", where=\"CRASH_DATE > '2022-01-01'\")\n",
    "\n",
    "# Convert to pandas DataFrame\n",
    "crash_raw = pd.DataFrame.from_records(results)"
   ]
  },
  {
   "cell_type": "code",
   "execution_count": 31,
   "id": "5c40e612",
   "metadata": {},
   "outputs": [
    {
     "data": {
      "text/plain": [
       "Index(['crash_record_id', 'crash_date', 'posted_speed_limit',\n",
       "       'traffic_control_device', 'device_condition', 'weather_condition',\n",
       "       'lighting_condition', 'first_crash_type', 'trafficway_type',\n",
       "       'alignment', 'roadway_surface_cond', 'road_defect', 'report_type',\n",
       "       'crash_type', 'hit_and_run_i', 'damage', 'date_police_notified',\n",
       "       'prim_contributory_cause', 'sec_contributory_cause', 'street_no',\n",
       "       'street_direction', 'street_name', 'beat_of_occurrence', 'num_units',\n",
       "       'most_severe_injury', 'injuries_total', 'injuries_fatal',\n",
       "       'injuries_incapacitating', 'injuries_non_incapacitating',\n",
       "       'injuries_reported_not_evident', 'injuries_no_indication',\n",
       "       'injuries_unknown', 'crash_hour', 'crash_day_of_week', 'crash_month',\n",
       "       'latitude', 'longitude', 'location', 'crash_date_est_i',\n",
       "       'photos_taken_i', 'intersection_related_i', 'private_property_i',\n",
       "       'statements_taken_i', 'work_zone_i', 'dooring_i'],\n",
       "      dtype='object')"
      ]
     },
     "execution_count": 31,
     "metadata": {},
     "output_type": "execute_result"
    }
   ],
   "source": [
    "crash_raw.columns"
   ]
  },
  {
   "cell_type": "markdown",
   "id": "bd806804",
   "metadata": {},
   "source": [
    "This dataset is pretty crazy! Let's do some data munging to get it into a nicer form. \n",
    "\n",
    "  - create a variable called `injuries` which indicates if the crash involved injuries or not.\n",
    "  - create an unknown category for missing `report_type`s\n",
    "  - decide which other variables to keep"
   ]
  },
  {
   "cell_type": "code",
   "execution_count": 45,
   "id": "354bb416",
   "metadata": {},
   "outputs": [],
   "source": [
    "# convert the 'Date' column to datetime format\n",
    "crash_raw['crash_date'] = pd.to_datetime(crash_raw['crash_date'])\n",
    "crash_raw['injuries'] = (pd.to_numeric(crash_raw['injuries_total']) > 0)\n",
    "\n",
    "crash = crash_raw[['crash_date', 'injuries', 'latitude', 'longitude']]"
   ]
  },
  {
   "cell_type": "markdown",
   "id": "056fc8af",
   "metadata": {},
   "source": [
    "## Exploratory Data Analysis\n",
    "\n",
    "Here's a few questions to get you started. \n",
    "\n",
    "1. Take a look at crashes by latitude and longitude, colored by injuries. What do you notice?\n",
    "\n",
    "2. What are the most common contributing factors to a crash?\n",
    "\n",
    "3. How do crashes vary month by month? Compare crashes by month in 2022 to 2023.\n",
    "\n",
    "4. Are crashes more likely to cause injuries when it is rainy and dark? Use the variables `weather_condition` and `lighting_condition` to explore.\n",
    "\n",
    "5. Choose a question you want to explore, and create an appropriate visual."
   ]
  },
  {
   "cell_type": "code",
   "execution_count": null,
   "id": "bf69510c",
   "metadata": {},
   "outputs": [],
   "source": []
  }
 ],
 "metadata": {
  "kernelspec": {
   "display_name": "Python 3 (ipykernel)",
   "language": "python",
   "name": "python3"
  },
  "language_info": {
   "codemirror_mode": {
    "name": "ipython",
    "version": 3
   },
   "file_extension": ".py",
   "mimetype": "text/x-python",
   "name": "python",
   "nbconvert_exporter": "python",
   "pygments_lexer": "ipython3",
   "version": "3.10.9"
  }
 },
 "nbformat": 4,
 "nbformat_minor": 5
}
